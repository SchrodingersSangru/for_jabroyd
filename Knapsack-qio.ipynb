{
 "cells": [
  {
   "cell_type": "code",
   "execution_count": 1,
   "id": "95d388a1",
   "metadata": {},
   "outputs": [],
   "source": [
    "from azure.quantum.optimization import Term\n",
    "from math import floor, log2\n",
    "from azure.quantum import Workspace\n",
    "\n",
    "workspace = Workspace (\n",
    "  subscription_id = \"9d480707-e623-4767-8ecd-61db6aec76b9\",\n",
    "  resource_group = \"QAI-1\",\n",
    "  name = \"QIO-QAI\",\n",
    "  location = \"East US\"\n",
    ")"
   ]
  },
  {
   "cell_type": "markdown",
   "id": "32ec748e",
   "metadata": {},
   "source": [
    "Your subscription id - 9d480707-e623-4767-8ecd-61db6aec76b9 \n",
    "And workspace name - QIO-siddhi\n",
    "Region - East US\n",
    "Resource group name - QAI-1"
   ]
  },
  {
   "cell_type": "code",
   "execution_count": 2,
   "id": "51183791",
   "metadata": {},
   "outputs": [],
   "source": [
    "def knapsackHamiltonian(costsArray, weightsArray, W):\n",
    "    \n",
    "    terms = []\n",
    "\n",
    "    maxCosts = max(costsArray)\n",
    "\n",
    "    n = len(costsArray)\n",
    "\n",
    "    M = floor(log2(W))\n",
    "\n",
    "    k = [2**i for i in range(M)]\n",
    "    \n",
    "    # the mentioned last step\n",
    "    k.append(W + 1 - 2**M)\n",
    "    \n",
    "    # x-Term\n",
    "    for i in range(n):\n",
    "        terms.append(Term(c=float(maxCosts * (weightsArray[i]**2) - costsArray[i]), indices=[i]))\n",
    "\n",
    "    # x-x Term\n",
    "    for i in range(n):\n",
    "        for j in range(i+1, n):\n",
    "            terms.append(Term(c=float(2*maxCosts*weightsArray[i]*weightsArray[j]), indices=[i,j]))\n",
    "\n",
    "    # x-y Term\n",
    "    for i in range(n):\n",
    "        for j in range(M+1):\n",
    "            terms.append(Term(c=float(-2*maxCosts*weightsArray[i]*k[j]), indices=[i,(n-1)+j]))\n",
    "\n",
    "    # y Term\n",
    "    for i in range(M+1):\n",
    "        terms.append(Term(c=float(maxCosts*(k[i]**2)), indices=[(n-1)+i]))\n",
    "        \n",
    "     # y-y Term\n",
    "    for i in range(M+1):\n",
    "        for j in range(i+1, M+1):\n",
    "            terms.append(Term(c=float(2*maxCosts*k[i]*k[j]), indices=[(n-1)+i,(n-1)+j]))\n",
    "\n",
    "    return terms"
   ]
  },
  {
   "cell_type": "code",
   "execution_count": 3,
   "id": "e959b2ed",
   "metadata": {},
   "outputs": [],
   "source": [
    "from azure.quantum.optimization import Problem, ProblemType\n",
    "from azure.quantum.optimization import SimulatedAnnealing"
   ]
  },
  {
   "cell_type": "code",
   "execution_count": 4,
   "id": "6aba8eed",
   "metadata": {},
   "outputs": [],
   "source": [
    "costsArray = [5, 4, 2, 1, 4]\n",
    "weightsArray = [7, 2, 5, 6, 8]\n",
    "Weight = 15"
   ]
  },
  {
   "cell_type": "code",
   "execution_count": 5,
   "id": "de828c17",
   "metadata": {},
   "outputs": [],
   "source": [
    "terms = knapsackHamiltonian(costsArray, weightsArray, Weight)\n",
    "problem = Problem(name=\"knapsack problem\", problem_type=ProblemType.pubo, terms=terms)\n",
    "solver = SimulatedAnnealing(workspace, timeout=100, seed=22)"
   ]
  },
  {
   "cell_type": "code",
   "execution_count": 6,
   "id": "9c8ba47e",
   "metadata": {},
   "outputs": [
    {
     "name": "stdout",
     "output_type": "stream",
     "text": [
      "To sign in, use a web browser to open the page https://microsoft.com/devicelogin and enter the code AGV8RBDVC to authenticate.\n",
      "...Picked item number 0\n",
      "Picked item number 1\n",
      "Picked item number 2\n"
     ]
    }
   ],
   "source": [
    "job = solver.submit(problem)\n",
    "job.refresh()\n",
    "result = job.get_results()\n",
    "config = result['configuration']\n",
    "resultitems = []\n",
    "for i in config.keys():\n",
    "    if config[i]:\n",
    "         resultitems.append(int(i))\n",
    "    \n",
    "for i in resultitems:\n",
    "    if i < len(costsArray):\n",
    "        print(\"Picked item number \" + str(i))"
   ]
  },
  {
   "cell_type": "code",
   "execution_count": null,
   "id": "d6f8e4ca",
   "metadata": {},
   "outputs": [],
   "source": []
  }
 ],
 "metadata": {
  "kernelspec": {
   "display_name": "Python 3 (ipykernel)",
   "language": "python",
   "name": "python3"
  },
  "language_info": {
   "codemirror_mode": {
    "name": "ipython",
    "version": 3
   },
   "file_extension": ".py",
   "mimetype": "text/x-python",
   "name": "python",
   "nbconvert_exporter": "python",
   "pygments_lexer": "ipython3",
   "version": "3.9.7"
  }
 },
 "nbformat": 4,
 "nbformat_minor": 5
}
