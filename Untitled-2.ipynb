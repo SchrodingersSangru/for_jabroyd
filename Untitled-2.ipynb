{
 "cells": [
  {
   "cell_type": "code",
   "execution_count": 4,
   "metadata": {},
   "outputs": [
    {
     "name": "stdout",
     "output_type": "stream",
     "text": [
      " energy ： -225.0\n",
      " Selected items ： [1, 3, 4]\n",
      " Total value ： 225\n"
     ]
    }
   ],
   "source": [
    "from dwave.system import LeapHybridSampler\n",
    "from math import log2, floor\n",
    "import dimod\n",
    "\n",
    "\n",
    "W = 100\n",
    "N = 5\n",
    "c = [45, 50, 30, 120, 55]\n",
    "w = [28, 15, 37, 60, 25]\n",
    "\n",
    "#  Other variables \n",
    "A = max(c)\n",
    "M = floor(log2(W))\n",
    "k = [2**i for i in range(M)] + [W + 1 - 2**M]\n",
    "\n",
    "# BQM\n",
    "bqm = dimod.AdjVectorBQM(dimod.Vartype.BINARY)\n",
    "\n",
    "# x  term \n",
    "for i in range(N):\n",
    "    bqm.set_linear('x' + str(i), A * (w[i]**2) - c[i])\n",
    "\n",
    "# x-x  term \n",
    "for i in range(N):\n",
    "    for j in range(i + 1, N):\n",
    "        key = ('x' + str(i), 'x' + str(j))\n",
    "        bqm.quadratic[key] = 2 * A * w[i] * w[j]\n",
    "\n",
    "# x-y  term \n",
    "for i in range(N):\n",
    "    for j in range(M + 1):\n",
    "        key = ('x' + str(i), 'y' + str(j))\n",
    "        bqm.quadratic[key] = -2 * A * w[i] * k[j]\n",
    "        \n",
    "# y  term \n",
    "for i in range(M + 1):\n",
    "    bqm.set_linear('y' + str(i), A * (k[i]**2))\n",
    "\n",
    "# y-y  term \n",
    "for i in range(M + 1):\n",
    "    for j in range(i + 1, M + 1):\n",
    "        key = ('y' + str(i), 'y' + str(j))\n",
    "        bqm.quadratic[key] = 2 * A * k[i] * k[j]\n",
    "\n",
    "#  solve \n",
    "sampler = LeapHybridSampler()\n",
    "sampleset = sampler.sample(bqm)\n",
    "sample = sampleset.first.sample\n",
    "energy = sampleset.first.energy\n",
    "\n",
    "#  Which items are selected\n",
    "selected = []\n",
    "for varname, value in sample.items():\n",
    "    if value and varname.startswith('x'): # x*\n",
    "        selected.append(int(varname[1:]))\n",
    "selected = sorted(selected)\n",
    "\n",
    "\n",
    "cost_sum = 0\n",
    "for i in selected:\n",
    "    cost_sum += c[i]\n",
    "\n",
    "print(' energy ：', energy)\n",
    "print(' Selected items ：', selected)\n",
    "print(' Total value ：', cost_sum)"
   ]
  },
  {
   "cell_type": "code",
   "execution_count": null,
   "metadata": {},
   "outputs": [],
   "source": []
  }
 ],
 "metadata": {
  "interpreter": {
   "hash": "90d5c41eb45eb849656fefa1221164c04677d50e08280b513235ecd5e813af04"
  },
  "kernelspec": {
   "display_name": "Python 3.7.11 ('base')",
   "language": "python",
   "name": "python3"
  },
  "language_info": {
   "codemirror_mode": {
    "name": "ipython",
    "version": 3
   },
   "file_extension": ".py",
   "mimetype": "text/x-python",
   "name": "python",
   "nbconvert_exporter": "python",
   "pygments_lexer": "ipython3",
   "version": "3.7.11"
  },
  "orig_nbformat": 4
 },
 "nbformat": 4,
 "nbformat_minor": 2
}
